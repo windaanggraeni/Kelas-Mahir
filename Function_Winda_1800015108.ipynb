{
  "nbformat": 4,
  "nbformat_minor": 0,
  "metadata": {
    "colab": {
      "name": "Function_Winda_1800015108.ipynb",
      "provenance": []
    },
    "kernelspec": {
      "name": "python3",
      "display_name": "Python 3"
    },
    "language_info": {
      "name": "python"
    }
  },
  "cells": [
    {
      "cell_type": "markdown",
      "metadata": {
        "id": "cR78Jryoqg-P"
      },
      "source": [
        "#**Pembuka**"
      ]
    },
    {
      "cell_type": "markdown",
      "metadata": {
        "id": "KWiB-mueqoKv"
      },
      "source": [
        "Assalamu'alaikum warahmatullahi wabarakatuh. Puji syukur kehadirat Allah Subhana Wata'ala atas limpahan Rahmat dan HidayahNya kepada kita semua. Sholawat serta salam senantiasa tercurah limpahkan kepada baginda Muhammad Rasulullah Salallahualaihiwassalam."
      ]
    },
    {
      "cell_type": "markdown",
      "metadata": {
        "id": "6p4IhwkfqpPv"
      },
      "source": [
        "Halo para para pembaca. Selamat berjumpa di pertemuan pertama Program Training Algoritma Machine Learning Kelas Mahir."
      ]
    },
    {
      "cell_type": "markdown",
      "metadata": {
        "id": "9xY_55mMqtYq"
      },
      "source": [
        "Pada pertemuan ini kita akan belajar:\n",
        "\n",
        "*   Fungsi Pada Python\n",
        "*   Keyword & Argument\n",
        "*   Membuat Fungsi Pada Python\n",
        "*   Positional Argument & Keyword\n",
        "*   Argument Default\n",
        "*   Contoh User Defined Function\n",
        "*   Latihan"
      ]
    },
    {
      "cell_type": "code",
      "metadata": {
        "id": "LgF3aAowqy9K"
      },
      "source": [
        "#**Function**"
      ],
      "execution_count": null,
      "outputs": []
    },
    {
      "cell_type": "markdown",
      "metadata": {
        "id": "lSl2Cf2VrCOv"
      },
      "source": [
        "Function adalah sebuah blok statemen yang hanya akan dijalankan saat ia dipanggil."
      ]
    },
    {
      "cell_type": "code",
      "metadata": {
        "colab": {
          "base_uri": "https://localhost:8080/"
        },
        "id": "L5HQ_xCFrK-B",
        "outputId": "bceffa55-aeec-4c2d-afb1-a83a0a2c2a19"
      },
      "source": [
        "genap = [2,4,6,8,10]\n",
        "len(genap)"
      ],
      "execution_count": 2,
      "outputs": [
        {
          "output_type": "execute_result",
          "data": {
            "text/plain": [
              "5"
            ]
          },
          "metadata": {},
          "execution_count": 2
        }
      ]
    },
    {
      "cell_type": "code",
      "metadata": {
        "colab": {
          "base_uri": "https://localhost:8080/"
        },
        "id": "-Hifl3VIrV2R",
        "outputId": "a95a1a04-90c0-4681-8f86-c134ea7e3027"
      },
      "source": [
        "print('Assalamualaikum Dunia')"
      ],
      "execution_count": 3,
      "outputs": [
        {
          "output_type": "stream",
          "name": "stdout",
          "text": [
            "Assalamualaikum Dunia\n"
          ]
        }
      ]
    },
    {
      "cell_type": "markdown",
      "metadata": {
        "id": "io6TT88zrW8i"
      },
      "source": [
        "#**Keyword & Argument!**"
      ]
    },
    {
      "cell_type": "markdown",
      "metadata": {
        "id": "IgCKTf8jrc6t"
      },
      "source": [
        "**Keyword/Parameter** : variable yang digunakan dalam deklarasi fungsi\n",
        "\n",
        "**Argument**: nilai yang diberikan saat pemanggilan fungsi"
      ]
    },
    {
      "cell_type": "code",
      "metadata": {
        "colab": {
          "base_uri": "https://localhost:8080/"
        },
        "id": "BLbOdemYruwN",
        "outputId": "32fed84f-8578-4604-bf9e-5c34a404bc30"
      },
      "source": [
        "# sep = keyword/argument\n",
        "# '-' = argument\n",
        "print('kata1', 'kata2', sep='/')"
      ],
      "execution_count": 16,
      "outputs": [
        {
          "output_type": "stream",
          "name": "stdout",
          "text": [
            "kata1/kata2\n"
          ]
        }
      ]
    },
    {
      "cell_type": "markdown",
      "metadata": {
        "id": "FjnlttkrrrPi"
      },
      "source": [
        "#**Membuat Fungsi**"
      ]
    },
    {
      "cell_type": "markdown",
      "metadata": {
        "id": "sXLbhQRMr4Of"
      },
      "source": [
        "Python mengizinkan untuk mendeklarasikan fungsi dalam kode yang dituliskan yang dikenal dengan **user defined function.**"
      ]
    },
    {
      "cell_type": "code",
      "metadata": {
        "id": "ANapapECr0Tn"
      },
      "source": [
        "def nama_fungsi(argument):\n",
        "    pernyataan_1\n",
        "    ...\n",
        "    pernyataan_n\n",
        "    return nilai_keluaran"
      ],
      "execution_count": 5,
      "outputs": []
    },
    {
      "cell_type": "code",
      "metadata": {
        "id": "1OZFhGJEsHfS"
      },
      "source": [
        "# Pendefinisian fungsi_kuadrat\n",
        "def fungsi_kuadrat(x):\n",
        "    hasil = x**2\n",
        "    return hasil"
      ],
      "execution_count": 6,
      "outputs": []
    },
    {
      "cell_type": "code",
      "metadata": {
        "id": "XWL6M-DLsOB-"
      },
      "source": [
        "# Alternatif Pendefinisian fungsi_kuadrat\n",
        "def fungsi_kuadrat(x):\n",
        "    return x**2"
      ],
      "execution_count": 7,
      "outputs": []
    },
    {
      "cell_type": "code",
      "metadata": {
        "colab": {
          "base_uri": "https://localhost:8080/"
        },
        "id": "9jCrXhEhsVCF",
        "outputId": "1a3aedd4-f3f6-474a-9925-a17b2c13b3b6"
      },
      "source": [
        "# Pemanggilan fungsi_kuadrat\n",
        "fungsi_kuadrat(6)"
      ],
      "execution_count": 8,
      "outputs": [
        {
          "output_type": "execute_result",
          "data": {
            "text/plain": [
              "36"
            ]
          },
          "metadata": {},
          "execution_count": 8
        }
      ]
    },
    {
      "cell_type": "markdown",
      "metadata": {
        "id": "WkQ9UO-Rsi5i"
      },
      "source": [
        "#**Positional Argument & Keyword**"
      ]
    },
    {
      "cell_type": "markdown",
      "metadata": {
        "id": "fDNxCw39skMk"
      },
      "source": [
        "Kita bisa menyatakan argumen sebagai positional argument atau keyword. Beberapa manfaat argumen kata\n",
        "kunci dapat berupa:\n",
        "\n",
        "*   Kita dapat menyebut argumen dengan nama mereka untuk memperjelas apa yang mereka wakili\n",
        "*   Kita dapat mengatur ulang argumen dengan cara yang membuatnya paling mudah dibaca\n"
      ]
    },
    {
      "cell_type": "code",
      "metadata": {
        "id": "GxgWJ1X-snFH"
      },
      "source": [
        "# Mendefinisikan fungsi dengan bebrapa argumen\n",
        "def tampilan_kata(a, b, c):\n",
        "    print(a, b, c)"
      ],
      "execution_count": 9,
      "outputs": []
    },
    {
      "cell_type": "code",
      "metadata": {
        "colab": {
          "base_uri": "https://localhost:8080/"
        },
        "id": "ZiU1HxNasyfu",
        "outputId": "cd1dbab7-f46e-4282-8339-e64babce0918"
      },
      "source": [
        "# Positional Argument\n",
        "tampilan_kata('aku', 'kau', 'dia')"
      ],
      "execution_count": 10,
      "outputs": [
        {
          "output_type": "stream",
          "name": "stdout",
          "text": [
            "aku kau dia\n"
          ]
        }
      ]
    },
    {
      "cell_type": "code",
      "metadata": {
        "colab": {
          "base_uri": "https://localhost:8080/"
        },
        "id": "ZusjFvZas_8b",
        "outputId": "b3a967fc-34e8-469c-f404-b830e559fcc4"
      },
      "source": [
        "tampilan_kata('kau', 'aku', 'dia')"
      ],
      "execution_count": 11,
      "outputs": [
        {
          "output_type": "stream",
          "name": "stdout",
          "text": [
            "kau aku dia\n"
          ]
        }
      ]
    },
    {
      "cell_type": "code",
      "metadata": {
        "colab": {
          "base_uri": "https://localhost:8080/"
        },
        "id": "4RDecVnutJxo",
        "outputId": "efcb1937-8cc7-4389-dcba-9c50cb31453f"
      },
      "source": [
        "# argumen berdasarkan keyword-nya\n",
        "tampilan_kata(a='aku', b='kau', c='dia')\n",
        "tampilan_kata(c='dia', b='kau', a='aku')"
      ],
      "execution_count": 12,
      "outputs": [
        {
          "output_type": "stream",
          "name": "stdout",
          "text": [
            "aku kau dia\n",
            "aku kau dia\n"
          ]
        }
      ]
    },
    {
      "cell_type": "code",
      "metadata": {
        "colab": {
          "base_uri": "https://localhost:8080/"
        },
        "id": "5d0v3myZtOfk",
        "outputId": "e144709d-299d-4d01-f755-eb4f1cf81b52"
      },
      "source": [
        "#campuran antara argumen posisi dan argumen kata kunci\n",
        "tampilan_kata('aku', b='kau', c='dia')"
      ],
      "execution_count": 13,
      "outputs": [
        {
          "output_type": "stream",
          "name": "stdout",
          "text": [
            "aku kau dia\n"
          ]
        }
      ]
    },
    {
      "cell_type": "markdown",
      "metadata": {
        "id": "KVjPPkT00jZr"
      },
      "source": [
        "**Ini tidak diijinkan:**\n",
        "\n",
        "\n",
        "*   Positional argument setelah keyword argument\n",
        "\n",
        "          tampilkan_kata('aku', b='kau', 'dia')\n",
        "*   Terdapat dua nilai untuk satu keyword argument yang sama\n",
        "\n",
        "          tampilkan_kata(1, b=2, a=3)"
      ]
    },
    {
      "cell_type": "markdown",
      "metadata": {
        "id": "aOfdBIXZ0u7m"
      },
      "source": [
        "#**Argument Default**"
      ]
    },
    {
      "cell_type": "markdown",
      "metadata": {
        "id": "lLLVi1R50v3M"
      },
      "source": [
        "Fungsi dapat memiliki argumen default dengan nilai yang telah ditentukan sebelumnya. Argumen ini dapat ditinggalkan dan nilai default kemudian diteruskan ke fungsi, atau argumen dapat dirubah dengan nilai yang berbeda. Perhatikan bahwa argumen default harus ditentukan sebagai **parameter terakhir** dalam suatu fungsi."
      ]
    },
    {
      "cell_type": "code",
      "metadata": {
        "colab": {
          "base_uri": "https://localhost:8080/"
        },
        "id": "nnE4rNo5tRHS",
        "outputId": "1c203e75-21f3-41b7-9eae-c964f1674495"
      },
      "source": [
        "# Argumen default\n",
        "def tampilan_kata(a, b, c, d='sahabat'):\n",
        "    print(a, b, c, d)\n",
        "\n",
        "tampilan_kata('aku', 'kau', 'dia')\n",
        "tampilan_kata('aku', b='kau', c='dia', d='teman')"
      ],
      "execution_count": 14,
      "outputs": [
        {
          "output_type": "stream",
          "name": "stdout",
          "text": [
            "aku kau dia sahabat\n",
            "aku kau dia teman\n"
          ]
        }
      ]
    },
    {
      "cell_type": "markdown",
      "metadata": {
        "id": "qt7QIROV05kG"
      },
      "source": [
        "**Catatan**: Argumen default harus diletakkan terakhir"
      ]
    },
    {
      "cell_type": "markdown",
      "metadata": {
        "id": "aPgKt8gr09Nt"
      },
      "source": [
        "#**Contoh User Defined Function**"
      ]
    },
    {
      "cell_type": "markdown",
      "metadata": {
        "id": "-eRZt0U20-Jz"
      },
      "source": [
        "**Contoh 1:**\n",
        "\n",
        "Penjumlahan 2 bilangan"
      ]
    },
    {
      "cell_type": "code",
      "metadata": {
        "colab": {
          "base_uri": "https://localhost:8080/"
        },
        "id": "j-clXBfctrVk",
        "outputId": "40ddf4d3-0f1e-4f1b-dc78-77fff76b9e2e"
      },
      "source": [
        "def penjumlahan (x, y):   # input\n",
        "    a=x+y                 # proses\n",
        "    return a              # output\n",
        "\n",
        "penjumlahan(1, 2)         # pemanggilan fungsi"
      ],
      "execution_count": 17,
      "outputs": [
        {
          "output_type": "execute_result",
          "data": {
            "text/plain": [
              "3"
            ]
          },
          "metadata": {},
          "execution_count": 17
        }
      ]
    },
    {
      "cell_type": "markdown",
      "metadata": {
        "id": "wY5e4rva1E-7"
      },
      "source": [
        "**Contoh 2:**\n",
        "\n",
        "Penjumlahan yang memungkinkan untuk 3 bilangan"
      ]
    },
    {
      "cell_type": "code",
      "metadata": {
        "colab": {
          "base_uri": "https://localhost:8080/"
        },
        "id": "1WglQEGCty4y",
        "outputId": "319aecea-f742-48a5-e1f6-6c4382931fff"
      },
      "source": [
        "def penjumlahan (x,y,z=None):   \n",
        "    if (z==None):\n",
        "        return x+y\n",
        "    else:\n",
        "        return x+y+z\n",
        "    \n",
        "print(penjumlahan(1,2))\n",
        "print(penjumlahan(1,2,3))"
      ],
      "execution_count": 18,
      "outputs": [
        {
          "output_type": "stream",
          "name": "stdout",
          "text": [
            "3\n",
            "6\n"
          ]
        }
      ]
    },
    {
      "cell_type": "markdown",
      "metadata": {
        "id": "el00kxOZ1Q9P"
      },
      "source": [
        "**Contoh 3:**\n",
        "\n",
        "Menghitung luas dan keliling persegi"
      ]
    },
    {
      "cell_type": "code",
      "metadata": {
        "colab": {
          "base_uri": "https://localhost:8080/"
        },
        "id": "0a4eVQR81Rts",
        "outputId": "a77003a8-e69d-4d24-9f93-ff72f81b8f04"
      },
      "source": [
        "def luas_dan_keliling_persegi(s):\n",
        "  luas=s**2\n",
        "  keliling=4*s\n",
        "  return luas, keliling\n",
        "\n",
        "luas, keliling = luas_dan_keliling_persegi(2)\n",
        "print('luas :', luas)\n",
        "print('keliling :', keliling)"
      ],
      "execution_count": 19,
      "outputs": [
        {
          "output_type": "stream",
          "name": "stdout",
          "text": [
            "luas : 4\n",
            "keliling : 8\n"
          ]
        }
      ]
    },
    {
      "cell_type": "markdown",
      "metadata": {
        "id": "XKsCWFlH1a-q"
      },
      "source": [
        "#**Latihan**"
      ]
    },
    {
      "cell_type": "markdown",
      "metadata": {
        "id": "945yiTTZ1ew3"
      },
      "source": [
        "1.   Buatlah sebuah fungsi untuk menghitung luas dan keliling lingkaran dengan input jari2!"
      ]
    },
    {
      "cell_type": "code",
      "metadata": {
        "colab": {
          "base_uri": "https://localhost:8080/"
        },
        "id": "nMxYV_czt4-C",
        "outputId": "df58044a-3e17-47ec-8c2e-da43379e8dfc"
      },
      "source": [
        "def luas_dan_keliling_lingkaran(r):\n",
        "  pi = 3.14\n",
        "  luas = pi*r**2\n",
        "  keliling = 2*pi*r\n",
        "  return luas, keliling\n",
        "\n",
        "luas, keliling = luas_dan_keliling_lingkaran(100)\n",
        "print('luas :', luas)\n",
        "print('keliling :', keliling)"
      ],
      "execution_count": 22,
      "outputs": [
        {
          "output_type": "stream",
          "name": "stdout",
          "text": [
            "luas : 31400.0\n",
            "keliling : 628.0\n"
          ]
        }
      ]
    },
    {
      "cell_type": "markdown",
      "metadata": {
        "id": "kTmLfHw12Yqs"
      },
      "source": [
        "2.   \n",
        "Buatlah sebuah fungsi untuk menggabungkan dua kata dalam bentuk string bebas menjadi satu kata tanpa spasi dengan huruf kecil!!"
      ]
    },
    {
      "cell_type": "code",
      "metadata": {
        "colab": {
          "base_uri": "https://localhost:8080/"
        },
        "id": "663Bwkii3kxu",
        "outputId": "cc2ac480-efc5-46aa-b800-c2a7e6dcb021"
      },
      "source": [
        "def gabung_kata(x,y):\n",
        "  X = (x,y)\n",
        "  Y = \"\".join(X)\n",
        "  Z = Y.lower()\n",
        "  return Z\n",
        "\n",
        "Z = gabung_kata('TANGKUBAN', 'PeRaHu')\n",
        "print(Z)"
      ],
      "execution_count": 34,
      "outputs": [
        {
          "output_type": "stream",
          "name": "stdout",
          "text": [
            "tangkubanperahu\n"
          ]
        }
      ]
    },
    {
      "cell_type": "markdown",
      "metadata": {
        "id": "v20ErUEb33Jl"
      },
      "source": [
        "3. Buatlah sebuah fungsi awal_akhir(list_input) untuk menukar elemen pertama pada sebuah list dengan elemen terakhir pada list yang sama!!!!"
      ]
    },
    {
      "cell_type": "code",
      "metadata": {
        "colab": {
          "base_uri": "https://localhost:8080/"
        },
        "id": "HC9fRtn-4U8l",
        "outputId": "e0e0db8e-bbd8-44e9-98fe-0ad6b4e94a2c"
      },
      "source": [
        "def awal_akhir(list_input):\n",
        "  list_input.sort(reverse = True)\n",
        "  return list_input\n",
        "\n",
        "list_input = awal_akhir([1,2,3,4])\n",
        "print(list_input)"
      ],
      "execution_count": 38,
      "outputs": [
        {
          "output_type": "stream",
          "name": "stdout",
          "text": [
            "[4, 3, 2, 1]\n"
          ]
        }
      ]
    }
  ]
}